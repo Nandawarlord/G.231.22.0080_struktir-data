{
  "nbformat": 4,
  "nbformat_minor": 0,
  "metadata": {
    "colab": {
      "provenance": []
    },
    "kernelspec": {
      "name": "python3",
      "display_name": "Python 3"
    },
    "language_info": {
      "name": "python"
    }
  },
  "cells": [
    {
      "cell_type": "markdown",
      "source": [
        "Nama : ANanda tri wahyu aji\n",
        "Nim : G.231.22.0080"
      ],
      "metadata": {
        "id": "PVkwsFB-mgLm"
      }
    },
    {
      "cell_type": "code",
      "execution_count": 8,
      "metadata": {
        "colab": {
          "base_uri": "https://localhost:8080/"
        },
        "id": "5_TZy6b9lCnJ",
        "outputId": "d35c7849-b55b-4ad0-b7a3-874f63fc1fab"
      },
      "outputs": [
        {
          "output_type": "stream",
          "name": "stdout",
          "text": [
            "deque(['Ananda', 'Megumi', 'Warlord', 'Baal'])\n",
            "deque(['Ananda', 'Megumi', 'Warlord', 'Baal', 'Akbar'])\n",
            "deque(['Ananda', 'Megumi', 'Warlord', 'Baal', 'Akbar', 'Birbal'])\n",
            "Ananda\n",
            "Megumi\n",
            "deque(['Warlord', 'Baal', 'Akbar', 'Birbal'])\n"
          ]
        }
      ],
      "source": [
        "from collections import deque\n",
        "queue = deque ([\"Ananda\", \"Megumi\", \"Warlord\", \"Baal\"])\n",
        "print (queue)\n",
        "queue.append(\"Akbar\")\n",
        "print (queue)\n",
        "queue.append(\"Birbal\")\n",
        "print (queue)\n",
        "print (queue.popleft())\n",
        "print (queue.popleft())\n",
        "print (queue)"
      ]
    },
    {
      "cell_type": "markdown",
      "source": [
        "Algoritma Tower of Hanoi\n",
        "\n",
        "Fungsi TowerOfHanoi menerima input n yang merupakan jumlah cakram yang ingin dipindahkan dari tiang awal (from_rod) ke tiang tujuan (to_rod) dengan bantuan tiang bantu (aux_rod).\n",
        "\n",
        "Jika n sama dengan 0, tidak ada yang perlu dilakukan, sehingga fungsi berhenti (return).\n",
        "\n",
        "Untuk memindahkan n cakram:\n",
        "\n",
        "a. Panggil rekursif TowerOfHanoi dengan parameter n - 1, memindahkan cakram dari tiang awal ke tiang bantu.\n",
        "\n",
        "b. Cetak langkah pemindahan cakram n dari tiang awal ke tiang tujuan.\n",
        "\n",
        "c. Panggil rekursif TowerOfHanoi lagi dengan parameter n - 1, memindahkan cakram dari tiang bantu ke tiang tujuan. Algoritma untuk Mengurutkan Dalam Sebuah Stack"
      ],
      "metadata": {
        "id": "gpNr6wIKqNUo"
      }
    },
    {
      "cell_type": "code",
      "source": [
        "def TowerOfHanoi(n, from_rod, to_rod, aux_rod):\n",
        "    if n == 0:  # Jika jumlah cakram sama dengan 0\n",
        "        return  # Kembalikan dari fungsi\n",
        "\n",
        "    TowerOfHanoi(n - 1, from_rod, aux_rod, to_rod)  # Pindahkan n-1 cakram dari tiang awal ke tiang bantu\n",
        "    print(\"Move disk\", n, \"from\", from_rod, \"to\", to_rod)  # Cetak langkah pemindahan cakram n\n",
        "    TowerOfHanoi(n - 1, aux_rod, to_rod, from_rod)  # Pindahkan kembali n-1 cakram dari tiang bantu ke tujuan"
      ],
      "metadata": {
        "id": "aKTOIOgZqW9H"
      },
      "execution_count": 3,
      "outputs": []
    },
    {
      "cell_type": "code",
      "source": [
        "# Driver code\n",
        "N = 3  # Jumlah total cakram\n",
        "\n",
        "# A, C, B adalah nama-nama tiang\n",
        "TowerOfHanoi(N, 'A', 'C', 'B')  # Panggil fungsi Tower of Hanoi dengan parameter N dan nama tiang"
      ],
      "metadata": {
        "colab": {
          "base_uri": "https://localhost:8080/"
        },
        "id": "RCuB-C7Mqg5D",
        "outputId": "d96523fb-cfa3-4155-87d3-07e1714eb72d"
      },
      "execution_count": 4,
      "outputs": [
        {
          "output_type": "stream",
          "name": "stdout",
          "text": [
            "Move disk 1 from A to C\n",
            "Move disk 2 from A to B\n",
            "Move disk 1 from C to B\n",
            "Move disk 3 from A to C\n",
            "Move disk 1 from B to A\n",
            "Move disk 2 from B to C\n",
            "Move disk 1 from A to C\n"
          ]
        }
      ]
    },
    {
      "cell_type": "markdown",
      "source": [
        "Algoritma untuk Mengurutkan Dalam Sebuah Stack\n",
        "\n",
        "Fungsi sortStack menerima input dalam bentuk stack (input) yang berisi angka-angka yang ingin diurutkan secara menurun.\n",
        "\n",
        "Buat stack sementara (tmp) untuk menyimpan nilai sementara.\n",
        "\n",
        "Selama stack input tidak kosong:\n",
        "\n",
        "a. Ambil elemen teratas dari stack input.\n",
        "\n",
        "b. Selama stack sementara tidak kosong dan nilai teratas dari stack sementara lebih kecil dari nilai saat ini: i. Pindahkan elemen dari stack sementara ke stack input.\n",
        "\n",
        "c. Tambahkan nilai saat ini ke stack sementara.\n",
        "\n",
        "Kembalikan stack sementara yang berisi nilai-nilai yang telah diurutkan secara menurun"
      ],
      "metadata": {
        "id": "m_K-GgQ4qaHY"
      }
    },
    {
      "cell_type": "code",
      "source": [
        "# Mengurutkan Dalam Sebuah Stack\n",
        "def sortStack(input):\n",
        "    tmp = []  # Inisialisasi stack sementara\n",
        "    while len(input) > 0:  # Selama stack input tidak kosong\n",
        "        # Ambil elemen teratas dari stack input\n",
        "        current = input.pop()\n",
        "\n",
        "        # Selama stack sementara tidak kosong dan nilai teratas dari stack sementara lebih kecil dari nilai saat ini\n",
        "        while len(tmp) > 0 and tmp[-1] < current:\n",
        "            # Pindahkan elemen dari stack sementara ke stack input\n",
        "            input.append(tmp.pop())\n",
        "\n",
        "        # Tambahkan nilai saat ini ke stack sementara\n",
        "        tmp.append(current)\n",
        "\n",
        "    return tmp  # Kembalikan stack sementara yang telah diurutkan\n"
      ],
      "metadata": {
        "id": "0MAX6mHLq5p1"
      },
      "execution_count": 5,
      "outputs": []
    },
    {
      "cell_type": "markdown",
      "source": [
        "**Algoritma untuk Mengurutkan Array Menggunakan Stack**\n",
        "\n",
        "1. Fungsi sortArrayUsingStacks menerima array (arr) yang ingin diurutkan dan panjang array (n).\n",
        "2. Tambahkan elemen-elemen array ke dalam stack (input).\n",
        "3. Urutkan stack menggunakan fungsi sortStack yang telah dijelaskan sebelumnya.\n",
        "4. Ambil nilai-nilai teratas dari stack sementara dan masukkan ke dalam array awal.\n",
        "5. Kembalikan array yang telah diurutka"
      ],
      "metadata": {
        "id": "J8jFq1f0q-Uy"
      }
    },
    {
      "cell_type": "code",
      "source": [
        "def sortArrayUsingStacks(arr, n):\n",
        "    # Tambahkan elemen-elemen array ke dalam stack\n",
        "    input = []\n",
        "    i = 0\n",
        "    while i < n:\n",
        "        input.append(arr[i])\n",
        "        i += 1\n",
        "\n",
        "    # Urutkan stack sementara\n",
        "    tmp = sortStack(input)\n",
        "    i = 0\n",
        "\n",
        "    # Masukkan elemen-elemen stack ke dalam array\n",
        "    while i < n:\n",
        "        arr[i] = tmp.pop()\n",
        "        i += 1\n",
        "    return arr  # Kembalikan array yang telah diurutkan\n"
      ],
      "metadata": {
        "id": "__QGwt2UrCjk"
      },
      "execution_count": 6,
      "outputs": []
    },
    {
      "cell_type": "markdown",
      "source": [
        "**Eksekusi**\n",
        "1. Terdapat array [10, 5, 15, 45] yang ingin diurutkan secara menurun.\n",
        "\n",
        "2. Panggil sortArrayUsingStacks untuk mengurutkan array tersebut.\n",
        "\n",
        "3. Tampilkan hasil pengurutan dengan mencetak nilai-nilai dari array."
      ],
      "metadata": {
        "id": "1F4n0k2VrHaV"
      }
    },
    {
      "cell_type": "code",
      "source": [
        "TowerOfHanoi(N, 'A', 'C', 'B')\n",
        "\n",
        "# Driver code untuk mengurutkan array menggunakan stack\n",
        "arr = [10, 5, 15, 45]\n",
        "n = len(arr)\n",
        "\n",
        "arr = sortArrayUsingStacks(arr, n)  # Panggil fungsi untuk mengurutkan array menggunakan stack\n",
        "i = 0\n",
        "while i < n:  # Tampilkan array yang telah diurutkan\n",
        "    print(arr[i], end=\" \")\n",
        "    i += 1\n"
      ],
      "metadata": {
        "colab": {
          "base_uri": "https://localhost:8080/"
        },
        "id": "s3SXhQrMrH2v",
        "outputId": "87c077ec-ceb0-4479-b291-45cb6e0692c6"
      },
      "execution_count": 7,
      "outputs": [
        {
          "output_type": "stream",
          "name": "stdout",
          "text": [
            "Move disk 1 from A to C\n",
            "Move disk 2 from A to B\n",
            "Move disk 1 from C to B\n",
            "Move disk 3 from A to C\n",
            "Move disk 1 from B to A\n",
            "Move disk 2 from B to C\n",
            "Move disk 1 from A to C\n",
            "5 10 15 45 "
          ]
        }
      ]
    }
  ]
}