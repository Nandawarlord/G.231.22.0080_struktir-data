{
  "nbformat": 4,
  "nbformat_minor": 0,
  "metadata": {
    "colab": {
      "provenance": []
    },
    "kernelspec": {
      "name": "python3",
      "display_name": "Python 3"
    },
    "language_info": {
      "name": "python"
    }
  },
  "cells": [
    {
      "cell_type": "markdown",
      "source": [
        "Contoh Pangram nama"
      ],
      "metadata": {
        "id": "GQ785v7BNYtg"
      }
    },
    {
      "cell_type": "code",
      "execution_count": 1,
      "metadata": {
        "colab": {
          "base_uri": "https://localhost:8080/"
        },
        "id": "TVrKYbP3Mpzx",
        "outputId": "4929a921-161f-4f15-a97c-ca2e05804cba"
      },
      "outputs": [
        {
          "output_type": "stream",
          "name": "stdout",
          "text": [
            "ANANDA TRI WAHYU AJI adalah pangram nama.\n"
          ]
        }
      ],
      "source": [
        "def is_pangram(name):\n",
        "    # Konversi nama ke huruf kecil untuk memudahkan pemrosesan\n",
        "    name_lower = name.lower()\n",
        "\n",
        "    # Inisialisasi set untuk menyimpan huruf yang sudah muncul\n",
        "    alphabet_set = set()\n",
        "\n",
        "    # Loop melalui setiap karakter dalam nama\n",
        "    for char in name_lower:\n",
        "        # Periksa apakah karakter adalah huruf dan belum ada di set\n",
        "        if char.isalpha() and char not in alphabet_set:\n",
        "            # Tambahkan huruf ke set\n",
        "            alphabet_set.add(char)\n",
        "\n",
        "    # Periksa apakah set berisi semua huruf alfabet\n",
        "    return len(alphabet_set) == 26\n",
        "\n",
        "# Nama yang akan diperiksa\n",
        "nama_seseorang = \"ANANDA TRI WAHYU AJI\"\n",
        "\n",
        "# Periksa apakah nama tersebut adalah pangram\n",
        "if is_pangram(nama_seseorang):\n",
        "    print(f\"{nama_seseorang} bukan pangram nama!\")\n",
        "else:\n",
        "    print(f\"{nama_seseorang} adalah pangram nama.\")"
      ]
    },
    {
      "cell_type": "code",
      "source": [
        "# A Python Program to check if the given\n",
        "# string is a pangram or not\n",
        "\n",
        "\n",
        "def checkPangram(s):\n",
        "    List = []\n",
        "# create list of 26 characters and set false each entry\n",
        "    for i in range(26):\n",
        "        List.append(False)\n",
        "    # converting the sentence to lowercase and iterating\n",
        "    # over the sentence\n",
        "    for c in s.lower():\n",
        "        if not c == \" \":\n",
        "\n",
        "            # make the corresponding entry True\n",
        "            List[ord(c) - ord('a')] = True\n",
        "    # check if any character is missing then return False\n",
        "    for ch in List:\n",
        "        if ch == False:\n",
        "            return False\n",
        "    return True\n",
        "\n",
        "# Driver Program to test above functions\n",
        "sentence = \"Saya sangat menyukai foto tersebut\"\n",
        "\n",
        "if (checkPangram(sentence)):\n",
        "    print('\"'+sentence+'\"')\n",
        "    print(\"\\nis a pangram\")\n",
        "else:\n",
        "    print('\"'+sentence+'\"')\n",
        "    print(\"\\nis not a pangram\")"
      ],
      "metadata": {
        "colab": {
          "base_uri": "https://localhost:8080/"
        },
        "id": "EVE3QHnvMwmm",
        "outputId": "87f4b5e7-90be-41d0-c8c0-8874ca5fa7d4"
      },
      "execution_count": 2,
      "outputs": [
        {
          "output_type": "stream",
          "name": "stdout",
          "text": [
            "\"Saya sangat menyukai foto tersebut\"\n",
            "\n",
            "is not a pangram\n"
          ]
        }
      ]
    }
  ]
}