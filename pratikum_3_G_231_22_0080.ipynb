{
  "nbformat": 4,
  "nbformat_minor": 0,
  "metadata": {
    "colab": {
      "provenance": []
    },
    "kernelspec": {
      "name": "python3",
      "display_name": "Python 3"
    },
    "language_info": {
      "name": "python"
    }
  },
  "cells": [
    {
      "cell_type": "code",
      "execution_count": 2,
      "metadata": {
        "id": "wU2TaAvvOyFt",
        "colab": {
          "base_uri": "https://localhost:8080/"
        },
        "outputId": "fafc5627-14b4-4ded-e7f6-e6899d86f132"
      },
      "outputs": [
        {
          "output_type": "stream",
          "name": "stdout",
          "text": [
            "geeksforgeeks\n"
          ]
        }
      ],
      "source": [
        "def convert(s):\n",
        " new = \"\"\n",
        " for x in s:\n",
        "    new += x\n",
        " return new\n",
        "\n",
        "# driver code\n",
        "s = ['g', 'e', 'e', 'k', 's', 'f', 'o', 'r',\n",
        "'g', 'e', 'e', 'k', 's']\n",
        "print(convert(s))\n"
      ]
    },
    {
      "cell_type": "code",
      "source": [
        "def convert(s):\n",
        " kata = \"\"\n",
        " for x in s:\n",
        "  kata += x\n",
        " return kata\n",
        "\n",
        "# driver code\n",
        "s = ['p', 'r', 'o', 'g', 'r', 'a', 'm',\n",
        " 'm', 'i', 'n', 'g']\n",
        "print(convert(s))\n"
      ],
      "metadata": {
        "id": "K4M0_H-fQa5m",
        "colab": {
          "base_uri": "https://localhost:8080/"
        },
        "outputId": "b70d6e42-ebc3-462d-c506-10680cbbc675"
      },
      "execution_count": 5,
      "outputs": [
        {
          "output_type": "stream",
          "name": "stdout",
          "text": [
            "programming\n"
          ]
        }
      ]
    },
    {
      "cell_type": "code",
      "source": [
        "  hasil = \"\"\n",
        "  for char in s:\n",
        "    hasil += char\n",
        "\n",
        "# driver code\n",
        "s = ['p', 'r', 'o', 'g', 'r', 'a', 'm',\n",
        " 'm', 'i', 'n', 'g']\n",
        "print(hasil)"
      ],
      "metadata": {
        "colab": {
          "base_uri": "https://localhost:8080/"
        },
        "id": "Gz5zsahyRxkn",
        "outputId": "5574b312-36ff-4a84-ac06-76f938bec597"
      },
      "execution_count": 6,
      "outputs": [
        {
          "output_type": "stream",
          "name": "stdout",
          "text": [
            "programming\n"
          ]
        }
      ]
    }
  ]
}