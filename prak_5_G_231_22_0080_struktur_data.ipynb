{
  "nbformat": 4,
  "nbformat_minor": 0,
  "metadata": {
    "colab": {
      "provenance": []
    },
    "kernelspec": {
      "name": "python3",
      "display_name": "Python 3"
    },
    "language_info": {
      "name": "python"
    }
  },
  "cells": [
    {
      "cell_type": "code",
      "source": [
        "from ast import Break\n",
        "def bubbleSort(arr):\n",
        " n = len(arr)\n",
        " swapped = False\n",
        "\n",
        " for i in range(n-1):\n",
        "    for j in range(0, n-i-1):\n",
        "      if arr[j] > arr[j + 1]:\n",
        "        swapped = True\n",
        "        arr[j], arr[j + 1] = arr[j + 1], arr[j]\n",
        "\n",
        "      if not swapped:\n",
        "        break\n",
        "\n",
        "# kode drive untuk diuji di atas\n",
        "arr = [64, 34, 25, 12, 22, 11, 90]\n",
        "\n",
        "bubbleSort(arr)\n",
        "\n",
        "print (\"Sorted array is:\")\n",
        "for i in range (len(arr)):\n",
        "  print(\"% d\" % arr[i], end=\" \" )"
      ],
      "metadata": {
        "colab": {
          "base_uri": "https://localhost:8080/"
        },
        "id": "3b3uljiUZl3j",
        "outputId": "11bb13d3-8d3e-471a-a9ea-4dcd3211f70e"
      },
      "execution_count": 1,
      "outputs": [
        {
          "output_type": "stream",
          "name": "stdout",
          "text": [
            "Sorted array is:\n",
            " 11  12  22  25  34  64  90 "
          ]
        }
      ]
    },
    {
      "cell_type": "code",
      "source": [
        "#Program Python untuk implementasi \\\n",
        "# Selection Sort\n",
        "import sys\n",
        "A = [64, 25, 12, 22, 11]\n",
        "for i in range(len(A)):\n",
        " min_idx = i\n",
        " for j in range(i+1, len(A)):\n",
        "    if A[min_idx] > A[j]:\n",
        "      min_idx = j\n",
        "\n",
        " A[i], A[min_idx] = A[min_idx], A[i]\n",
        "print (\"Sorted array\")\n",
        "for i in range(len(A)):\n",
        " print(\"%d\" %A[i],end=\" \")"
      ],
      "metadata": {
        "colab": {
          "base_uri": "https://localhost:8080/"
        },
        "id": "7JfME7gaY1zM",
        "outputId": "370112be-7a39-4386-bfbe-67ed78330739"
      },
      "execution_count": 2,
      "outputs": [
        {
          "output_type": "stream",
          "name": "stdout",
          "text": [
            "Sorted array\n",
            "11 12 22 25 64 "
          ]
        }
      ]
    },
    {
      "cell_type": "code",
      "source": [
        "# Program Python untuk implementasi \\\n",
        "# Insertion Sort\n",
        "# Berfungsi untuk melakukan penyisipan sortir\n",
        "def insertionSort(arr):\n",
        " for i in range(1, len(arr)):\n",
        "  key = arr[i]\n",
        " j = i-1\n",
        " while j >= 0 and key < arr[j] :\n",
        "  arr[j + 1] = arr[j]\n",
        " j -= 1\n",
        " arr[j + 1] = key\n",
        "# kode drive untuk diuji di atas\n",
        "arr = [12, 11, 13, 5, 6]\n",
        "insertionSort(arr)\n",
        "for i in range(len(arr)):\n",
        "  print (\"% d\" % arr[i])"
      ],
      "metadata": {
        "colab": {
          "base_uri": "https://localhost:8080/"
        },
        "id": "65BQGR48aCpM",
        "outputId": "21bbef0a-e10d-4c0c-f2e9-8fd89b8c73f9"
      },
      "execution_count": 3,
      "outputs": [
        {
          "output_type": "stream",
          "name": "stdout",
          "text": [
            " 12\n",
            " 11\n",
            " 13\n",
            " 6\n",
            " 6\n"
          ]
        }
      ]
    },
    {
      "cell_type": "markdown",
      "source": [
        "Latihan"
      ],
      "metadata": {
        "id": "7LdJx7Z_OELj"
      }
    },
    {
      "cell_type": "markdown",
      "source": [
        "Bubble sort"
      ],
      "metadata": {
        "id": "0DqKaVszOI_n"
      }
    },
    {
      "cell_type": "code",
      "source": [
        "# Program Python yang dioptimalkan untuk implementasi Bubble Sort\n",
        "\n",
        "\n",
        "def bubbleSort(arr):\n",
        "\tn = len(arr)\n",
        "\n",
        "\t# Melintasi semua elemen array\n",
        "\tfor i in range(n):\n",
        "\t\tswapped = False\n",
        "\n",
        "\t\t# Elemen i terakhir sudah ada\n",
        "\t\tfor j in range(0, n-i-1):\n",
        "\n",
        "\t\t\t#Lintasi array dari 0 ke n-i-1\n",
        "      # Tukar jika elemen yang ditemukan lebih besar\n",
        "      # dari elemen berikutnya\n",
        "\t\t\tif arr[j] > arr[j+1]:\n",
        "\t\t\t\tarr[j], arr[j+1] = arr[j+1], arr[j]\n",
        "\t\t\t\tswapped = True\n",
        "\t\tif (swapped == False):\n",
        "\t\t\tbreak\n",
        "\n",
        "\n",
        "# Kode driver untuk diuji di atas\n",
        "if __name__ == \"__main__\":\n",
        "\tarr = [64, 35, 25, 12, 22, 11, 80, 55, 71]\n",
        "\n",
        "\tbubbleSort(arr)\n",
        "\n",
        "\tprint(\"Sorted array:\")\n",
        "\tfor i in range(len(arr)):\n",
        "\t\tprint(\"%d\" % arr[i], end=\" \")"
      ],
      "metadata": {
        "colab": {
          "base_uri": "https://localhost:8080/"
        },
        "id": "xUlXz28kONzF",
        "outputId": "a478081e-3285-49f5-eaba-f509afc597b8"
      },
      "execution_count": 5,
      "outputs": [
        {
          "output_type": "stream",
          "name": "stdout",
          "text": [
            "Sorted array:\n",
            "11 12 22 25 35 55 64 71 80 "
          ]
        }
      ]
    },
    {
      "cell_type": "markdown",
      "source": [
        "selection sort"
      ],
      "metadata": {
        "id": "WJFdxTj6OUKi"
      }
    },
    {
      "cell_type": "code",
      "source": [
        "# Python program for implementation of Selection\n",
        "# Sort\n",
        "import sys\n",
        "A = [60, 23, 14, 28, 17]\n",
        "\n",
        "# Traverse through all array elements\n",
        "for i in range(len(A)):\n",
        "\n",
        "\t# Find the minimum element in remaining\n",
        "\t# unsorted array\n",
        "\tmin_idx = i\n",
        "\tfor j in range(i+1, len(A)):\n",
        "\t\tif A[min_idx] > A[j]:\n",
        "\t\t\tmin_idx = j\n",
        "\n",
        "\t# Swap the found minimum element with\n",
        "\t# the first element\n",
        "\tA[i], A[min_idx] = A[min_idx], A[i]\n",
        "\n",
        "# Driver code to test above\n",
        "print (\"Sorted array\")\n",
        "for i in range(len(A)):\n",
        "\tprint(\"%d\" %A[i],end=\" , \")\n"
      ],
      "metadata": {
        "colab": {
          "base_uri": "https://localhost:8080/"
        },
        "id": "kHU6lbyROWgm",
        "outputId": "6de798ce-a053-438a-e303-322267d0e3be"
      },
      "execution_count": 6,
      "outputs": [
        {
          "output_type": "stream",
          "name": "stdout",
          "text": [
            "Sorted array\n",
            "14 , 17 , 23 , 28 , 60 , "
          ]
        }
      ]
    },
    {
      "cell_type": "markdown",
      "source": [
        "Insertion sort"
      ],
      "metadata": {
        "id": "AVCukus8OcxY"
      }
    },
    {
      "cell_type": "code",
      "source": [
        "# Python program for implementation of Insertion Sort\n",
        "\n",
        "# Function to do insertion sort\n",
        "def insertionSort(arr):\n",
        "\n",
        "\t# Traverse through 1 to len(arr)\n",
        "\tfor i in range(1, len(arr)):\n",
        "\n",
        "\t\tkey = arr[i]\n",
        "\n",
        "\t\t# Move elements of arr[0..i-1], that are\n",
        "\t\t# greater than key, to one position ahead\n",
        "\t\t# of their current position\n",
        "\t\tj = i-1\n",
        "\t\twhile j >= 0 and key < arr[j] :\n",
        "\t\t\t\tarr[j + 1] = arr[j]\n",
        "\t\t\t\tj -= 1\n",
        "\t\tarr[j + 1] = key\n",
        "\n",
        "\n",
        "# Driver code to test above\n",
        "arr = [12, 11, 13, 5, 6]\n",
        "insertionSort(arr)\n",
        "for i in range(len(arr)):\n",
        "\tprint (\"% d\" % arr[i])"
      ],
      "metadata": {
        "colab": {
          "base_uri": "https://localhost:8080/"
        },
        "id": "pyk42ZBeOiVM",
        "outputId": "df156026-da30-4c2b-e284-4704669910ce"
      },
      "execution_count": 7,
      "outputs": [
        {
          "output_type": "stream",
          "name": "stdout",
          "text": [
            " 5\n",
            " 6\n",
            " 11\n",
            " 12\n",
            " 13\n"
          ]
        }
      ]
    }
  ]
}