{
  "nbformat": 4,
  "nbformat_minor": 0,
  "metadata": {
    "colab": {
      "provenance": []
    },
    "kernelspec": {
      "name": "python3",
      "display_name": "Python 3"
    },
    "language_info": {
      "name": "python"
    }
  },
  "cells": [
    {
      "cell_type": "code",
      "source": [
        "def selection_Sort(angka):\n",
        " for pos_tujuan in range(len(angka)-1,0,1):\n",
        "  pos_max = 0\n",
        "  for x in range(1,pos_tujuan+1):\n",
        "    max_sementara = angka[pos_max]\n",
        "    if max_sementara < angka[x]:\n",
        "      pos_max = x\n",
        "  angka[pos_max],angka[pos_tujuan] = angka[pos_tujuan],angka[pos_max]\n",
        "\n",
        "angka = [9,8,2,4,10,6,1,13,20,24,18,19]\n",
        "print('sebelum sort:',angka)\n",
        "selection_Sort(angka)\n",
        "print('setelah sort:',angka)"
      ],
      "metadata": {
        "colab": {
          "base_uri": "https://localhost:8080/"
        },
        "id": "ADS3I-73_nqg",
        "outputId": "fd758051-fcf0-46fa-a299-28b0517ea8d1"
      },
      "execution_count": null,
      "outputs": [
        {
          "output_type": "stream",
          "name": "stdout",
          "text": [
            "sebelum sort: [9, 8, 2, 4, 10, 6, 1, 13, 20, 24, 18, 19]\n",
            "setelah sort: [9, 8, 2, 4, 10, 6, 1, 13, 20, 24, 18, 19]\n"
          ]
        }
      ]
    },
    {
      "cell_type": "code",
      "source": [
        "def selectionSort(alist):\n",
        " for slot in range(0,len(alist)-1):\n",
        "  position=slot\n",
        "  for location in range(slot+1,len(alist)):\n",
        "    if alist[location]<alist[position]:\n",
        "      position = location\n",
        "\n",
        "  temp = alist[slot]\n",
        "  alist[slot] = alist[position]\n",
        "  alist[position] = temp\n",
        "  print(alist)\n",
        "angka = [7,3,4,2,1,6,5]\n",
        "selectionSort(angka)\n",
        "print(angka)"
      ],
      "metadata": {
        "colab": {
          "base_uri": "https://localhost:8080/"
        },
        "id": "O74OpMZQ-Pqs",
        "outputId": "3da76475-539f-43e1-cb74-d7f4ea0ca763"
      },
      "execution_count": null,
      "outputs": [
        {
          "output_type": "stream",
          "name": "stdout",
          "text": [
            "[1, 3, 4, 2, 7, 6, 5]\n",
            "[1, 2, 4, 3, 7, 6, 5]\n",
            "[1, 2, 3, 4, 7, 6, 5]\n",
            "[1, 2, 3, 4, 7, 6, 5]\n",
            "[1, 2, 3, 4, 5, 6, 7]\n",
            "[1, 2, 3, 4, 5, 6, 7]\n",
            "[1, 2, 3, 4, 5, 6, 7]\n"
          ]
        }
      ]
    },
    {
      "cell_type": "code",
      "source": [
        "def insertionSort(arr):\n",
        "\tn = len(arr)\n",
        "\n",
        "\tif n <= 1:\n",
        "\t\treturn\n",
        "\n",
        "\tfor i in range(1, n):\n",
        "\t\tkey = arr[i]\n",
        "\t\tj = i-1\n",
        "\t\twhile j >= 0 and key < arr[j]:\n",
        "\t\t\tarr[j+1] = arr[j]\n",
        "\t\t\tj -= 1\n",
        "\t\tarr[j+1] = key\n",
        "\n",
        "# Sorting the array [9, 8, 4, 2, 4] using insertionSort\n",
        "arr = [9, 8, 4, 2, 6]\n",
        "insertionSort(arr)\n",
        "print(arr)"
      ],
      "metadata": {
        "id": "qrDoOHQoCArg",
        "colab": {
          "base_uri": "https://localhost:8080/"
        },
        "outputId": "213c8893-ef0f-4785-9a06-e7fa4f210e44"
      },
      "execution_count": 22,
      "outputs": [
        {
          "output_type": "stream",
          "name": "stdout",
          "text": [
            "[2, 4, 6, 8, 9]\n"
          ]
        }
      ]
    },
    {
      "cell_type": "code",
      "source": [
        "#contoh penggunaan tuple\n",
        "#program 1\n",
        "#Buat tupel dengan tipe data berbeda\n",
        "print(\"tuple 1\")\n",
        "tuplex = (\"tuple\", False, 10, 9, 8, 7, 6, 5, 4, 3, 2, 1)\n",
        "print(tuplex)\n",
        "\n",
        "#program 2\n",
        "print(\"tuple 2\")\n",
        "#Buat tupel dengan angka\n",
        "tuplex = 5, 10, 15, 20, 25\n",
        "print(tuplex)\n",
        "#Buat tuple dari satu item\n",
        "tuplex = 5,\n",
        "print(tuplex)\n",
        "\n",
        "print(\"program 3\")\n",
        "#program 3\n",
        "#membuat tupel\n",
        "tuplex = (4, 6, 2, 8, 3, 1)\n",
        "print(tuplex)\n",
        "#tupel tidak dapat diubah, jadi Anda tidak dapat menambahkan elemen baru\n",
        "#menggunakan penggabungan tupel dengan operator + Anda dapat menambahkan elemen dan itu akan membuat tupel baru\n",
        "tuplex = tuplex + (9,)\n",
        "print(tuplex)\n",
        "#menambahkan item dalam indeks tertentu\n",
        "tuplex = tuplex[:5] + (15, 20, 25) + tuplex[:5]\n",
        "print(tuplex)\n",
        "#mengonversi Tuple menjadi daftar\n",
        "listx = list(tuplex)\n",
        "#gunakan cara berbeda untuk menambahkan item dalam daftar\n",
        "listx.append(30)\n",
        "tuplex = tuple(listx)\n",
        "print(tuplex)\n",
        "\n",
        "print(\"program 4\")\n",
        "#program 4\n",
        "#membuat tupel\n",
        "tuplex = (4, 6, 2, 8, 3, 1)\n",
        "print(tuplex)\n",
        "#tupel tidak dapat diubah, jadi Anda tidak dapat menambahkan elemen baru\n",
        "#menggunakan penggabungan tupel dengan operator + Anda dapat menambahkan elemen dan itu akan membuat tupel baru\n",
        "tuplex = tuplex + (9,)\n",
        "print(tuplex)\n",
        "#menambahkan item dalam indeks tertentu\n",
        "tuplex = tuplex[:5] + (15, 20, 25) + tuplex[:5]\n",
        "print(tuplex)\n",
        "#mengonversi Tuple menjadi daftar\n",
        "listx = list(tuplex)\n",
        "#gunakan cara berbeda untuk menambahkan item dalam daftar\n",
        "listx.append(30)\n",
        "tuplex = tuple(listx)\n",
        "print(tuplex)"
      ],
      "metadata": {
        "colab": {
          "base_uri": "https://localhost:8080/"
        },
        "id": "Lhvj-PJBvZhw",
        "outputId": "49a08aae-0da0-4455-8d07-da8e34d8619c"
      },
      "execution_count": 24,
      "outputs": [
        {
          "output_type": "stream",
          "name": "stdout",
          "text": [
            "program 1\n",
            "('tuple', False, 10, 9, 8, 7, 6, 5, 4, 3, 2, 1)\n",
            "program 2\n",
            "(5, 10, 15, 20, 25)\n",
            "(5,)\n",
            "program 3\n",
            "(4, 6, 2, 8, 3, 1)\n",
            "(4, 6, 2, 8, 3, 1, 9)\n",
            "(4, 6, 2, 8, 3, 15, 20, 25, 4, 6, 2, 8, 3)\n",
            "(4, 6, 2, 8, 3, 15, 20, 25, 4, 6, 2, 8, 3, 30)\n",
            "program 4\n",
            "(4, 6, 2, 8, 3, 1)\n",
            "(4, 6, 2, 8, 3, 1, 9)\n",
            "(4, 6, 2, 8, 3, 15, 20, 25, 4, 6, 2, 8, 3)\n",
            "(4, 6, 2, 8, 3, 15, 20, 25, 4, 6, 2, 8, 3, 30)\n"
          ]
        }
      ]
    },
    {
      "cell_type": "code",
      "execution_count": null,
      "metadata": {
        "colab": {
          "base_uri": "https://localhost:8080/"
        },
        "id": "0UDqGZuvu4dn",
        "outputId": "66f45ad6-57f4-4cdd-934f-099ac812cbeb"
      },
      "outputs": [
        {
          "output_type": "stream",
          "name": "stdout",
          "text": [
            "dictionay 1\n",
            "{9: 90, 8: 85, 2: 20, 4: 45, 7: 70, 6: 65, 5: 50, 3: 35}\n",
            "dictionary 2\n",
            "3  tersedia dalam dictionary\n",
            "dictionary 3\n",
            "{'a': 200, 'b': 400, 'x': 300, 'y': 150}\n"
          ]
        }
      ],
      "source": [
        "#contoh penggunaan dictionary\n",
        "\n",
        "print(\"dictionay 1\")\n",
        "dic1 = {9:90, 8:85}\n",
        "dic2 = {2:20, 4:45}\n",
        "dic3 = {7:70, 6:65}\n",
        "dic4 = {5:50, 3:35}\n",
        "dic5 = {}\n",
        "for d in (dic1, dic2, dic3, dic4): dic5.update(d)\n",
        "print(dic5)\n",
        "\n",
        "print(\"dictionary 2\")\n",
        "d = {9 :90, 8 :85, 2 :20, 4 :45, 7 :70, 6 :65, 5 :50, 3 :35}\n",
        "cek_angka = 3\n",
        "if cek_angka in d:\n",
        "    print(cek_angka,' tersedia dalam dictionary')\n",
        "else:\n",
        "    print(cek_angka,'tidak tersedia dalam dictionary')\n",
        "\n",
        "print(\"dictionary 3\")\n",
        "d1 = {'a': 200, 'b': 400}\n",
        "d2 = {'x': 300, 'y': 150}\n",
        "d = d1.copy()\n",
        "d.update(d2)\n",
        "print(d)\n"
      ]
    }
  ]
}